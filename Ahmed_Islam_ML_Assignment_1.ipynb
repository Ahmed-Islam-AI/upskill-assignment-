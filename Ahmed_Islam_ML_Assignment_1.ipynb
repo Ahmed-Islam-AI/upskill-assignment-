{
  "cells": [
    {
      "cell_type": "markdown",
      "id": "82e3ba4f",
      "metadata": {
        "id": "82e3ba4f"
      },
      "source": [
        "## Objective\n",
        "\n",
        "Comparative study of KNN and Decision tree for predicting Students Adaptability level in Online Education."
      ]
    },
    {
      "cell_type": "markdown",
      "id": "62013500",
      "metadata": {
        "id": "62013500"
      },
      "source": [
        "### Import libraries"
      ]
    },
    {
      "cell_type": "code",
      "execution_count": null,
      "id": "55d2868e",
      "metadata": {
        "id": "55d2868e"
      },
      "outputs": [],
      "source": [
        "import pandas as pd\n",
        "import numpy as np\n",
        "import seaborn as sns\n",
        "import matplotlib as plt .,"
      ]
    },
    {
      "cell_type": "markdown",
      "id": "eb39d5c0",
      "metadata": {
        "id": "eb39d5c0"
      },
      "source": [
        "### Read Data"
      ]
    },
    {
      "cell_type": "code",
      "execution_count": null,
      "id": "ef0e3374",
      "metadata": {
        "id": "ef0e3374"
      },
      "outputs": [],
      "source": []
    },
    {
      "cell_type": "code",
      "execution_count": null,
      "id": "a2a1fb75",
      "metadata": {
        "id": "a2a1fb75"
      },
      "outputs": [],
      "source": []
    },
    {
      "cell_type": "markdown",
      "id": "27861f00",
      "metadata": {
        "id": "27861f00"
      },
      "source": [
        "### Generate Data Profiling Report"
      ]
    },
    {
      "cell_type": "code",
      "execution_count": null,
      "id": "03fb0795",
      "metadata": {
        "id": "03fb0795"
      },
      "outputs": [],
      "source": []
    },
    {
      "cell_type": "markdown",
      "id": "1e22d7ad",
      "metadata": {
        "id": "1e22d7ad"
      },
      "source": [
        "# Encoding"
      ]
    },
    {
      "cell_type": "markdown",
      "id": "4f7cc73c",
      "metadata": {
        "id": "4f7cc73c"
      },
      "source": [
        "Choose a suitable encoding technique for the columns."
      ]
    },
    {
      "cell_type": "code",
      "execution_count": null,
      "id": "4c5237a8",
      "metadata": {
        "id": "4c5237a8"
      },
      "outputs": [],
      "source": []
    },
    {
      "cell_type": "code",
      "execution_count": null,
      "id": "8bdd3a49",
      "metadata": {
        "id": "8bdd3a49"
      },
      "outputs": [],
      "source": []
    },
    {
      "cell_type": "code",
      "execution_count": null,
      "id": "e51b696d",
      "metadata": {
        "id": "e51b696d"
      },
      "outputs": [],
      "source": []
    },
    {
      "cell_type": "code",
      "execution_count": null,
      "id": "2720be01",
      "metadata": {
        "id": "2720be01"
      },
      "outputs": [],
      "source": []
    },
    {
      "cell_type": "code",
      "execution_count": null,
      "id": "5d3ed815",
      "metadata": {
        "id": "5d3ed815"
      },
      "outputs": [],
      "source": []
    },
    {
      "cell_type": "markdown",
      "id": "9aaedcc3",
      "metadata": {
        "id": "9aaedcc3"
      },
      "source": [
        "### Check distribution"
      ]
    },
    {
      "cell_type": "code",
      "execution_count": null,
      "id": "b15f59fb",
      "metadata": {
        "id": "b15f59fb"
      },
      "outputs": [],
      "source": []
    },
    {
      "cell_type": "markdown",
      "id": "74abaa76",
      "metadata": {
        "id": "74abaa76"
      },
      "source": [
        "# Machine Learning Algorithms"
      ]
    },
    {
      "cell_type": "markdown",
      "id": "79dfaf87",
      "metadata": {
        "id": "79dfaf87"
      },
      "source": [
        "Use KNN and Decision tree and find which one is working better."
      ]
    },
    {
      "cell_type": "markdown",
      "id": "60e54425",
      "metadata": {
        "id": "60e54425"
      },
      "source": [
        "### Define X and Y"
      ]
    },
    {
      "cell_type": "code",
      "execution_count": null,
      "id": "6f43ced6",
      "metadata": {
        "id": "6f43ced6"
      },
      "outputs": [],
      "source": []
    },
    {
      "cell_type": "markdown",
      "id": "dc801cb2",
      "metadata": {
        "id": "dc801cb2"
      },
      "source": [
        "### Feature Scaling"
      ]
    },
    {
      "cell_type": "code",
      "execution_count": null,
      "id": "075a0b6b",
      "metadata": {
        "id": "075a0b6b"
      },
      "outputs": [],
      "source": []
    },
    {
      "cell_type": "markdown",
      "id": "3bf45690",
      "metadata": {
        "id": "3bf45690"
      },
      "source": [
        "### Train Test Split"
      ]
    },
    {
      "cell_type": "code",
      "execution_count": null,
      "id": "0f08bdf8",
      "metadata": {
        "id": "0f08bdf8"
      },
      "outputs": [],
      "source": []
    },
    {
      "cell_type": "code",
      "execution_count": null,
      "id": "f0c1c08e",
      "metadata": {
        "id": "f0c1c08e"
      },
      "outputs": [],
      "source": []
    },
    {
      "cell_type": "code",
      "execution_count": null,
      "id": "5df672e3",
      "metadata": {
        "id": "5df672e3"
      },
      "outputs": [],
      "source": []
    },
    {
      "cell_type": "markdown",
      "id": "be023597",
      "metadata": {
        "id": "be023597"
      },
      "source": [
        "# KNN"
      ]
    },
    {
      "cell_type": "code",
      "execution_count": null,
      "id": "e0b3da41",
      "metadata": {
        "id": "e0b3da41"
      },
      "outputs": [],
      "source": []
    },
    {
      "cell_type": "code",
      "execution_count": null,
      "id": "bcb33db3",
      "metadata": {
        "id": "bcb33db3"
      },
      "outputs": [],
      "source": []
    },
    {
      "cell_type": "code",
      "execution_count": null,
      "id": "e94fb237",
      "metadata": {
        "id": "e94fb237"
      },
      "outputs": [],
      "source": []
    },
    {
      "cell_type": "code",
      "execution_count": null,
      "id": "772f42c1",
      "metadata": {
        "id": "772f42c1"
      },
      "outputs": [],
      "source": []
    },
    {
      "cell_type": "code",
      "execution_count": null,
      "id": "9c9b5341",
      "metadata": {
        "id": "9c9b5341"
      },
      "outputs": [],
      "source": []
    },
    {
      "cell_type": "code",
      "execution_count": null,
      "id": "11319f63",
      "metadata": {
        "id": "11319f63"
      },
      "outputs": [],
      "source": []
    },
    {
      "cell_type": "code",
      "execution_count": null,
      "id": "726872b9",
      "metadata": {
        "id": "726872b9"
      },
      "outputs": [],
      "source": []
    },
    {
      "cell_type": "code",
      "execution_count": null,
      "id": "d56a53ff",
      "metadata": {
        "id": "d56a53ff"
      },
      "outputs": [],
      "source": []
    },
    {
      "cell_type": "code",
      "execution_count": null,
      "id": "e8112875",
      "metadata": {
        "id": "e8112875"
      },
      "outputs": [],
      "source": []
    },
    {
      "cell_type": "code",
      "execution_count": null,
      "id": "ec82d00d",
      "metadata": {
        "id": "ec82d00d"
      },
      "outputs": [],
      "source": []
    },
    {
      "cell_type": "code",
      "execution_count": null,
      "id": "e6f108b6",
      "metadata": {
        "id": "e6f108b6"
      },
      "outputs": [],
      "source": []
    },
    {
      "cell_type": "markdown",
      "id": "e227c792",
      "metadata": {
        "id": "e227c792"
      },
      "source": [
        "#### Check different distance metric"
      ]
    },
    {
      "cell_type": "markdown",
      "id": "dbc15208",
      "metadata": {
        "id": "dbc15208"
      },
      "source": [
        "**Euclidean**"
      ]
    },
    {
      "cell_type": "code",
      "execution_count": null,
      "id": "7b657d76",
      "metadata": {
        "id": "7b657d76"
      },
      "outputs": [],
      "source": []
    },
    {
      "cell_type": "markdown",
      "id": "28e4b9ab",
      "metadata": {
        "id": "28e4b9ab"
      },
      "source": [
        "**Manhattan**"
      ]
    },
    {
      "cell_type": "code",
      "execution_count": null,
      "id": "615cdc5a",
      "metadata": {
        "id": "615cdc5a"
      },
      "outputs": [],
      "source": []
    },
    {
      "cell_type": "code",
      "execution_count": null,
      "id": "6897ec51",
      "metadata": {
        "id": "6897ec51"
      },
      "outputs": [],
      "source": []
    },
    {
      "cell_type": "markdown",
      "id": "7e1ed2e8",
      "metadata": {
        "id": "7e1ed2e8"
      },
      "source": [
        "# Decision Tree\n",
        "\n",
        "**Using Entropy**"
      ]
    },
    {
      "cell_type": "code",
      "execution_count": null,
      "id": "8c4106c3",
      "metadata": {
        "id": "8c4106c3"
      },
      "outputs": [],
      "source": []
    },
    {
      "cell_type": "code",
      "execution_count": null,
      "id": "d123ca6d",
      "metadata": {
        "id": "d123ca6d"
      },
      "outputs": [],
      "source": []
    },
    {
      "cell_type": "code",
      "execution_count": null,
      "id": "cac2f3fc",
      "metadata": {
        "id": "cac2f3fc"
      },
      "outputs": [],
      "source": []
    },
    {
      "cell_type": "code",
      "execution_count": null,
      "id": "0a021b27",
      "metadata": {
        "id": "0a021b27"
      },
      "outputs": [],
      "source": []
    },
    {
      "cell_type": "markdown",
      "id": "66dbf093",
      "metadata": {
        "id": "66dbf093"
      },
      "source": [
        "**Use Gini Index**"
      ]
    },
    {
      "cell_type": "code",
      "execution_count": null,
      "id": "53b2a6e1",
      "metadata": {
        "id": "53b2a6e1"
      },
      "outputs": [],
      "source": []
    },
    {
      "cell_type": "code",
      "execution_count": null,
      "id": "9133a5e9",
      "metadata": {
        "id": "9133a5e9"
      },
      "outputs": [],
      "source": []
    },
    {
      "cell_type": "code",
      "execution_count": null,
      "id": "e40cacda",
      "metadata": {
        "id": "e40cacda"
      },
      "outputs": [],
      "source": []
    },
    {
      "cell_type": "code",
      "execution_count": null,
      "id": "dbe51fa2",
      "metadata": {
        "id": "dbe51fa2"
      },
      "outputs": [],
      "source": []
    },
    {
      "cell_type": "markdown",
      "id": "60e29891",
      "metadata": {
        "id": "60e29891"
      },
      "source": [
        "# All the Best!"
      ]
    }
  ],
  "metadata": {
    "kernelspec": {
      "display_name": "Python 3 (ipykernel)",
      "language": "python",
      "name": "python3"
    },
    "language_info": {
      "codemirror_mode": {
        "name": "ipython",
        "version": 3
      },
      "file_extension": ".py",
      "mimetype": "text/x-python",
      "name": "python",
      "nbconvert_exporter": "python",
      "pygments_lexer": "ipython3",
      "version": "3.11.5"
    },
    "colab": {
      "provenance": []
    }
  },
  "nbformat": 4,
  "nbformat_minor": 5
}