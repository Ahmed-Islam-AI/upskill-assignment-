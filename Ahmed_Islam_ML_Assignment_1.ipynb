{
  "cells": [
    {
      "cell_type": "markdown",
      "id": "82e3ba4f",
      "metadata": {
        "id": "82e3ba4f"
      },
      "source": [
        "## Objective\n",
        "\n",
        "Comparative study of KNN and Decision tree for predicting Students Adaptability level in Online Education."
      ]
    },
    {
      "cell_type": "code",
      "execution_count": 3,
      "id": "0c69e3c9",
      "metadata": {},
      "outputs": [
        {
          "name": "stdout",
          "output_type": "stream",
          "text": [
            "Collecting pandasNote: you may need to restart the kernel to use updated packages.\n"
          ]
        },
        {
          "name": "stderr",
          "output_type": "stream",
          "text": [
            "  WARNING: The script f2py.exe is installed in 'c:\\Users\\Ahmed Islam\\AppData\\Local\\Programs\\Python\\Python312\\Scripts' which is not on PATH.\n",
            "  Consider adding this directory to PATH or, if you prefer to suppress this warning, use --no-warn-script-location.\n"
          ]
        },
        {
          "name": "stdout",
          "output_type": "stream",
          "text": [
            "\n",
            "  Downloading pandas-2.2.2-cp312-cp312-win_amd64.whl.metadata (19 kB)\n",
            "Collecting numpy>=1.26.0 (from pandas)\n",
            "  Downloading numpy-1.26.4-cp312-cp312-win_amd64.whl.metadata (61 kB)\n",
            "     ---------------------------------------- 0.0/61.0 kB ? eta -:--:--\n",
            "     ---------------------------------------- 0.0/61.0 kB ? eta -:--:--\n",
            "     ------ --------------------------------- 10.2/61.0 kB ? eta -:--:--\n",
            "     ------------------- ------------------ 30.7/61.0 kB 435.7 kB/s eta 0:00:01\n",
            "     -------------------------------------- 61.0/61.0 kB 461.8 kB/s eta 0:00:00\n",
            "Requirement already satisfied: python-dateutil>=2.8.2 in c:\\users\\ahmed islam\\appdata\\roaming\\python\\python312\\site-packages (from pandas) (2.9.0.post0)\n",
            "Collecting pytz>=2020.1 (from pandas)\n",
            "  Downloading pytz-2024.1-py2.py3-none-any.whl.metadata (22 kB)\n",
            "Collecting tzdata>=2022.7 (from pandas)\n",
            "  Downloading tzdata-2024.1-py2.py3-none-any.whl.metadata (1.4 kB)\n",
            "Requirement already satisfied: six>=1.5 in c:\\users\\ahmed islam\\appdata\\roaming\\python\\python312\\site-packages (from python-dateutil>=2.8.2->pandas) (1.16.0)\n",
            "Downloading pandas-2.2.2-cp312-cp312-win_amd64.whl (11.5 MB)\n",
            "   ---------------------------------------- 0.0/11.5 MB ? eta -:--:--\n",
            "   ---------------------------------------- 0.0/11.5 MB ? eta -:--:--\n",
            "   ---------------------------------------- 0.1/11.5 MB 1.5 MB/s eta 0:00:08\n",
            "    --------------------------------------- 0.2/11.5 MB 2.1 MB/s eta 0:00:06\n",
            "   - -------------------------------------- 0.4/11.5 MB 2.4 MB/s eta 0:00:05\n",
            "   - -------------------------------------- 0.5/11.5 MB 2.4 MB/s eta 0:00:05\n",
            "   -- ------------------------------------- 0.7/11.5 MB 3.0 MB/s eta 0:00:04\n",
            "   --- ------------------------------------ 0.9/11.5 MB 3.3 MB/s eta 0:00:04\n",
            "   ---- ----------------------------------- 1.2/11.5 MB 3.9 MB/s eta 0:00:03\n",
            "   ----- ---------------------------------- 1.5/11.5 MB 4.0 MB/s eta 0:00:03\n",
            "   ----- ---------------------------------- 1.6/11.5 MB 4.0 MB/s eta 0:00:03\n",
            "   ------ --------------------------------- 1.9/11.5 MB 4.3 MB/s eta 0:00:03\n",
            "   ------- -------------------------------- 2.1/11.5 MB 4.3 MB/s eta 0:00:03\n",
            "   ------- -------------------------------- 2.2/11.5 MB 4.3 MB/s eta 0:00:03\n",
            "   -------- ------------------------------- 2.4/11.5 MB 4.1 MB/s eta 0:00:03\n",
            "   --------- ------------------------------ 2.6/11.5 MB 4.3 MB/s eta 0:00:03\n",
            "   --------- ------------------------------ 2.7/11.5 MB 4.1 MB/s eta 0:00:03\n",
            "   --------- ------------------------------ 2.8/11.5 MB 4.1 MB/s eta 0:00:03\n",
            "   ---------- ----------------------------- 3.0/11.5 MB 4.0 MB/s eta 0:00:03\n",
            "   ---------- ----------------------------- 3.1/11.5 MB 4.0 MB/s eta 0:00:03\n",
            "   ----------- ---------------------------- 3.3/11.5 MB 3.9 MB/s eta 0:00:03\n",
            "   ----------- ---------------------------- 3.3/11.5 MB 3.8 MB/s eta 0:00:03\n",
            "   ----------- ---------------------------- 3.4/11.5 MB 3.8 MB/s eta 0:00:03\n",
            "   ------------ --------------------------- 3.5/11.5 MB 3.7 MB/s eta 0:00:03\n",
            "   ------------ --------------------------- 3.6/11.5 MB 3.6 MB/s eta 0:00:03\n",
            "   ------------ --------------------------- 3.7/11.5 MB 3.6 MB/s eta 0:00:03\n",
            "   ------------- -------------------------- 3.8/11.5 MB 3.6 MB/s eta 0:00:03\n",
            "   ------------- -------------------------- 3.9/11.5 MB 3.5 MB/s eta 0:00:03\n",
            "   -------------- ------------------------- 4.1/11.5 MB 3.6 MB/s eta 0:00:03\n",
            "   -------------- ------------------------- 4.2/11.5 MB 3.5 MB/s eta 0:00:03\n",
            "   --------------- ------------------------ 4.5/11.5 MB 3.6 MB/s eta 0:00:02\n",
            "   ---------------- ----------------------- 4.7/11.5 MB 3.7 MB/s eta 0:00:02\n",
            "   ---------------- ----------------------- 4.8/11.5 MB 3.6 MB/s eta 0:00:02\n",
            "   ----------------- ---------------------- 5.0/11.5 MB 3.7 MB/s eta 0:00:02\n",
            "   ------------------ --------------------- 5.3/11.5 MB 3.7 MB/s eta 0:00:02\n",
            "   ------------------ --------------------- 5.4/11.5 MB 3.7 MB/s eta 0:00:02\n",
            "   ------------------- -------------------- 5.6/11.5 MB 3.7 MB/s eta 0:00:02\n",
            "   -------------------- ------------------- 5.8/11.5 MB 3.8 MB/s eta 0:00:02\n",
            "   -------------------- ------------------- 6.0/11.5 MB 3.8 MB/s eta 0:00:02\n",
            "   --------------------- ------------------ 6.0/11.5 MB 3.7 MB/s eta 0:00:02\n",
            "   --------------------- ------------------ 6.2/11.5 MB 3.8 MB/s eta 0:00:02\n",
            "   ---------------------- ----------------- 6.3/11.5 MB 3.7 MB/s eta 0:00:02\n",
            "   ---------------------- ----------------- 6.5/11.5 MB 3.7 MB/s eta 0:00:02\n",
            "   ----------------------- ---------------- 6.6/11.5 MB 3.7 MB/s eta 0:00:02\n",
            "   ----------------------- ---------------- 6.8/11.5 MB 3.7 MB/s eta 0:00:02\n",
            "   ------------------------ --------------- 7.0/11.5 MB 3.8 MB/s eta 0:00:02\n",
            "   ------------------------ --------------- 7.1/11.5 MB 3.8 MB/s eta 0:00:02\n",
            "   ------------------------- -------------- 7.3/11.5 MB 3.7 MB/s eta 0:00:02\n",
            "   ------------------------- -------------- 7.5/11.5 MB 3.7 MB/s eta 0:00:02\n",
            "   -------------------------- ------------- 7.7/11.5 MB 3.8 MB/s eta 0:00:02\n",
            "   --------------------------- ------------ 7.8/11.5 MB 3.8 MB/s eta 0:00:01\n",
            "   --------------------------- ------------ 7.9/11.5 MB 3.7 MB/s eta 0:00:01\n",
            "   ---------------------------- ----------- 8.2/11.5 MB 3.8 MB/s eta 0:00:01\n",
            "   ----------------------------- ---------- 8.4/11.5 MB 3.8 MB/s eta 0:00:01\n",
            "   ----------------------------- ---------- 8.6/11.5 MB 3.8 MB/s eta 0:00:01\n",
            "   ------------------------------ --------- 8.7/11.5 MB 3.8 MB/s eta 0:00:01\n",
            "   ------------------------------- -------- 8.9/11.5 MB 3.8 MB/s eta 0:00:01\n",
            "   ------------------------------- -------- 9.1/11.5 MB 3.8 MB/s eta 0:00:01\n",
            "   -------------------------------- ------- 9.2/11.5 MB 3.8 MB/s eta 0:00:01\n",
            "   -------------------------------- ------- 9.4/11.5 MB 3.8 MB/s eta 0:00:01\n",
            "   --------------------------------- ------ 9.6/11.5 MB 3.8 MB/s eta 0:00:01\n",
            "   --------------------------------- ------ 9.8/11.5 MB 3.8 MB/s eta 0:00:01\n",
            "   ---------------------------------- ----- 9.8/11.5 MB 3.8 MB/s eta 0:00:01\n",
            "   ---------------------------------- ----- 10.1/11.5 MB 3.8 MB/s eta 0:00:01\n",
            "   ----------------------------------- ---- 10.2/11.5 MB 3.8 MB/s eta 0:00:01\n",
            "   ------------------------------------ --- 10.4/11.5 MB 3.9 MB/s eta 0:00:01\n",
            "   ------------------------------------- -- 10.8/11.5 MB 4.0 MB/s eta 0:00:01\n",
            "   ------------------------------------- -- 10.8/11.5 MB 3.9 MB/s eta 0:00:01\n",
            "   -------------------------------------- - 11.1/11.5 MB 3.9 MB/s eta 0:00:01\n",
            "   ---------------------------------------  11.4/11.5 MB 3.9 MB/s eta 0:00:01\n",
            "   ---------------------------------------  11.5/11.5 MB 3.9 MB/s eta 0:00:01\n",
            "   ---------------------------------------  11.5/11.5 MB 3.9 MB/s eta 0:00:01\n",
            "   ---------------------------------------- 11.5/11.5 MB 3.8 MB/s eta 0:00:00\n",
            "Downloading numpy-1.26.4-cp312-cp312-win_amd64.whl (15.5 MB)\n",
            "   ---------------------------------------- 0.0/15.5 MB ? eta -:--:--\n",
            "   ---------------------------------------- 0.2/15.5 MB 5.6 MB/s eta 0:00:03\n",
            "   - -------------------------------------- 0.5/15.5 MB 5.8 MB/s eta 0:00:03\n",
            "   - -------------------------------------- 0.6/15.5 MB 5.1 MB/s eta 0:00:03\n",
            "   -- ------------------------------------- 1.1/15.5 MB 6.3 MB/s eta 0:00:03\n",
            "   --- ------------------------------------ 1.3/15.5 MB 6.1 MB/s eta 0:00:03\n",
            "   ---- ----------------------------------- 1.6/15.5 MB 6.0 MB/s eta 0:00:03\n",
            "   ---- ----------------------------------- 1.8/15.5 MB 5.8 MB/s eta 0:00:03\n",
            "   ---- ----------------------------------- 1.9/15.5 MB 5.7 MB/s eta 0:00:03\n",
            "   ---- ----------------------------------- 1.9/15.5 MB 5.7 MB/s eta 0:00:03\n",
            "   ---- ----------------------------------- 1.9/15.5 MB 5.7 MB/s eta 0:00:03\n",
            "   ---- ----------------------------------- 1.9/15.5 MB 5.7 MB/s eta 0:00:03\n",
            "   ----- ---------------------------------- 2.0/15.5 MB 3.9 MB/s eta 0:00:04\n",
            "   ------- -------------------------------- 2.9/15.5 MB 5.5 MB/s eta 0:00:03\n",
            "   -------- ------------------------------- 3.2/15.5 MB 5.2 MB/s eta 0:00:03\n",
            "   -------- ------------------------------- 3.3/15.5 MB 5.3 MB/s eta 0:00:03\n",
            "   --------- ------------------------------ 3.7/15.5 MB 5.4 MB/s eta 0:00:03\n",
            "   ---------- ----------------------------- 4.0/15.5 MB 5.5 MB/s eta 0:00:03\n",
            "   ---------- ----------------------------- 4.2/15.5 MB 5.6 MB/s eta 0:00:03\n",
            "   ----------- ---------------------------- 4.3/15.5 MB 5.3 MB/s eta 0:00:03\n",
            "   ----------- ---------------------------- 4.4/15.5 MB 5.3 MB/s eta 0:00:03\n",
            "   ----------- ---------------------------- 4.6/15.5 MB 5.2 MB/s eta 0:00:03\n",
            "   ------------ --------------------------- 4.8/15.5 MB 5.2 MB/s eta 0:00:03\n",
            "   ------------- -------------------------- 5.1/15.5 MB 5.3 MB/s eta 0:00:02\n",
            "   ------------- -------------------------- 5.3/15.5 MB 5.3 MB/s eta 0:00:02\n",
            "   -------------- ------------------------- 5.6/15.5 MB 5.3 MB/s eta 0:00:02\n",
            "   -------------- ------------------------- 5.8/15.5 MB 5.3 MB/s eta 0:00:02\n",
            "   --------------- ------------------------ 6.0/15.5 MB 5.3 MB/s eta 0:00:02\n",
            "   --------------- ------------------------ 6.1/15.5 MB 5.2 MB/s eta 0:00:02\n",
            "   ---------------- ----------------------- 6.5/15.5 MB 5.3 MB/s eta 0:00:02\n",
            "   ----------------- ---------------------- 6.8/15.5 MB 5.3 MB/s eta 0:00:02\n",
            "   ------------------ --------------------- 7.0/15.5 MB 5.4 MB/s eta 0:00:02\n",
            "   ------------------ --------------------- 7.2/15.5 MB 5.3 MB/s eta 0:00:02\n",
            "   ------------------- -------------------- 7.4/15.5 MB 5.3 MB/s eta 0:00:02\n",
            "   ------------------- -------------------- 7.7/15.5 MB 5.4 MB/s eta 0:00:02\n",
            "   -------------------- ------------------- 7.8/15.5 MB 5.4 MB/s eta 0:00:02\n",
            "   -------------------- ------------------- 8.1/15.5 MB 5.4 MB/s eta 0:00:02\n",
            "   --------------------- ------------------ 8.4/15.5 MB 5.4 MB/s eta 0:00:02\n",
            "   ---------------------- ----------------- 8.6/15.5 MB 5.3 MB/s eta 0:00:02\n",
            "   ---------------------- ----------------- 8.7/15.5 MB 5.3 MB/s eta 0:00:02\n",
            "   ---------------------- ----------------- 8.8/15.5 MB 5.3 MB/s eta 0:00:02\n",
            "   ----------------------- ---------------- 8.9/15.5 MB 5.2 MB/s eta 0:00:02\n",
            "   ----------------------- ---------------- 9.1/15.5 MB 5.1 MB/s eta 0:00:02\n",
            "   ----------------------- ---------------- 9.2/15.5 MB 5.1 MB/s eta 0:00:02\n",
            "   ----------------------- ---------------- 9.3/15.5 MB 5.0 MB/s eta 0:00:02\n",
            "   ------------------------ --------------- 9.5/15.5 MB 5.0 MB/s eta 0:00:02\n",
            "   ------------------------ --------------- 9.5/15.5 MB 5.0 MB/s eta 0:00:02\n",
            "   ------------------------ --------------- 9.5/15.5 MB 5.0 MB/s eta 0:00:02\n",
            "   ------------------------ --------------- 9.5/15.5 MB 5.0 MB/s eta 0:00:02\n",
            "   ------------------------- -------------- 9.8/15.5 MB 4.7 MB/s eta 0:00:02\n",
            "   --------------------------- ------------ 10.7/15.5 MB 5.0 MB/s eta 0:00:01\n",
            "   ---------------------------- ----------- 10.9/15.5 MB 5.1 MB/s eta 0:00:01\n",
            "   ---------------------------- ----------- 11.1/15.5 MB 5.0 MB/s eta 0:00:01\n",
            "   ----------------------------- ---------- 11.3/15.5 MB 5.0 MB/s eta 0:00:01\n",
            "   ------------------------------ --------- 11.6/15.5 MB 5.0 MB/s eta 0:00:01\n",
            "   ------------------------------ --------- 11.8/15.5 MB 5.0 MB/s eta 0:00:01\n",
            "   ------------------------------- -------- 12.1/15.5 MB 5.0 MB/s eta 0:00:01\n",
            "   ------------------------------- -------- 12.3/15.5 MB 5.5 MB/s eta 0:00:01\n",
            "   -------------------------------- ------- 12.5/15.5 MB 5.4 MB/s eta 0:00:01\n",
            "   -------------------------------- ------- 12.7/15.5 MB 5.3 MB/s eta 0:00:01\n",
            "   --------------------------------- ------ 12.9/15.5 MB 5.2 MB/s eta 0:00:01\n",
            "   --------------------------------- ------ 13.2/15.5 MB 5.0 MB/s eta 0:00:01\n",
            "   ---------------------------------- ----- 13.4/15.5 MB 5.1 MB/s eta 0:00:01\n",
            "   ---------------------------------- ----- 13.4/15.5 MB 5.1 MB/s eta 0:00:01\n",
            "   ---------------------------------- ----- 13.6/15.5 MB 5.0 MB/s eta 0:00:01\n",
            "   ----------------------------------- ---- 13.6/15.5 MB 5.0 MB/s eta 0:00:01\n",
            "   ----------------------------------- ---- 13.8/15.5 MB 4.9 MB/s eta 0:00:01\n",
            "   ------------------------------------ --- 14.0/15.5 MB 4.8 MB/s eta 0:00:01\n",
            "   ------------------------------------ --- 14.2/15.5 MB 4.8 MB/s eta 0:00:01\n",
            "   ------------------------------------- -- 14.5/15.5 MB 4.9 MB/s eta 0:00:01\n",
            "   ------------------------------------- -- 14.7/15.5 MB 5.0 MB/s eta 0:00:01\n",
            "   -------------------------------------- - 15.0/15.5 MB 5.0 MB/s eta 0:00:01\n",
            "   -------------------------------------- - 15.1/15.5 MB 5.0 MB/s eta 0:00:01\n",
            "   ---------------------------------------  15.3/15.5 MB 5.0 MB/s eta 0:00:01\n",
            "   ---------------------------------------  15.5/15.5 MB 5.0 MB/s eta 0:00:01\n",
            "   ---------------------------------------  15.5/15.5 MB 5.0 MB/s eta 0:00:01\n",
            "   ---------------------------------------  15.5/15.5 MB 5.0 MB/s eta 0:00:01\n",
            "   ---------------------------------------  15.5/15.5 MB 5.0 MB/s eta 0:00:01\n",
            "   ---------------------------------------  15.5/15.5 MB 5.0 MB/s eta 0:00:01\n",
            "   ---------------------------------------  15.5/15.5 MB 5.0 MB/s eta 0:00:01\n",
            "   ---------------------------------------  15.5/15.5 MB 5.0 MB/s eta 0:00:01\n",
            "   ---------------------------------------  15.5/15.5 MB 5.0 MB/s eta 0:00:01\n",
            "   ---------------------------------------  15.5/15.5 MB 5.0 MB/s eta 0:00:01\n",
            "   ---------------------------------------  15.5/15.5 MB 5.0 MB/s eta 0:00:01\n",
            "   ---------------------------------------- 15.5/15.5 MB 4.1 MB/s eta 0:00:00\n",
            "Downloading pytz-2024.1-py2.py3-none-any.whl (505 kB)\n",
            "   ---------------------------------------- 0.0/505.5 kB ? eta -:--:--\n",
            "   ----------------------------- ---------- 368.6/505.5 kB 7.6 MB/s eta 0:00:01\n",
            "   ---------------------------------------- 505.5/505.5 kB 6.3 MB/s eta 0:00:00\n",
            "Downloading tzdata-2024.1-py2.py3-none-any.whl (345 kB)\n",
            "   ---------------------------------------- 0.0/345.4 kB ? eta -:--:--\n",
            "   -------------------- ------------------- 174.1/345.4 kB 5.1 MB/s eta 0:00:01\n",
            "   ---------------------------------------  337.9/345.4 kB 5.2 MB/s eta 0:00:01\n",
            "   ---------------------------------------- 345.4/345.4 kB 4.3 MB/s eta 0:00:00\n",
            "Installing collected packages: pytz, tzdata, numpy, pandas\n",
            "Successfully installed numpy-1.26.4 pandas-2.2.2 pytz-2024.1 tzdata-2024.1\n"
          ]
        }
      ],
      "source": [
        "pip install pandas"
      ]
    },
    {
      "cell_type": "code",
      "execution_count": 5,
      "id": "b7247702",
      "metadata": {},
      "outputs": [
        {
          "name": "stdout",
          "output_type": "stream",
          "text": [
            "Collecting seaborn\n",
            "  Downloading seaborn-0.13.2-py3-none-any.whl.metadata (5.4 kB)\n",
            "Requirement already satisfied: numpy!=1.24.0,>=1.20 in c:\\users\\ahmed islam\\appdata\\local\\programs\\python\\python312\\lib\\site-packages (from seaborn) (1.26.4)\n",
            "Requirement already satisfied: pandas>=1.2 in c:\\users\\ahmed islam\\appdata\\local\\programs\\python\\python312\\lib\\site-packages (from seaborn) (2.2.2)\n",
            "Collecting matplotlib!=3.6.1,>=3.4 (from seaborn)\n",
            "  Downloading matplotlib-3.8.4-cp312-cp312-win_amd64.whl.metadata (5.9 kB)\n",
            "Collecting contourpy>=1.0.1 (from matplotlib!=3.6.1,>=3.4->seaborn)\n",
            "  Downloading contourpy-1.2.1-cp312-cp312-win_amd64.whl.metadata (5.8 kB)\n",
            "Collecting cycler>=0.10 (from matplotlib!=3.6.1,>=3.4->seaborn)\n",
            "  Downloading cycler-0.12.1-py3-none-any.whl.metadata (3.8 kB)\n",
            "Collecting fonttools>=4.22.0 (from matplotlib!=3.6.1,>=3.4->seaborn)\n",
            "  Downloading fonttools-4.51.0-cp312-cp312-win_amd64.whl.metadata (162 kB)\n",
            "     ---------------------------------------- 0.0/162.8 kB ? eta -:--:--\n",
            "     -- ------------------------------------- 10.2/162.8 kB ? eta -:--:--\n",
            "     ------ ------------------------------ 30.7/162.8 kB 435.7 kB/s eta 0:00:01\n",
            "     ---------------- -------------------- 71.7/162.8 kB 653.6 kB/s eta 0:00:01\n",
            "     ---------------------------- --------- 122.9/162.8 kB 1.0 MB/s eta 0:00:01\n",
            "     ------------------------------------ 162.8/162.8 kB 886.7 kB/s eta 0:00:00\n",
            "Collecting kiwisolver>=1.3.1 (from matplotlib!=3.6.1,>=3.4->seaborn)\n",
            "  Downloading kiwisolver-1.4.5-cp312-cp312-win_amd64.whl.metadata (6.5 kB)\n",
            "Requirement already satisfied: packaging>=20.0 in c:\\users\\ahmed islam\\appdata\\roaming\\python\\python312\\site-packages (from matplotlib!=3.6.1,>=3.4->seaborn) (24.0)\n",
            "Collecting pillow>=8 (from matplotlib!=3.6.1,>=3.4->seaborn)\n",
            "  Downloading pillow-10.3.0-cp312-cp312-win_amd64.whl.metadata (9.4 kB)\n",
            "Collecting pyparsing>=2.3.1 (from matplotlib!=3.6.1,>=3.4->seaborn)\n",
            "  Downloading pyparsing-3.1.2-py3-none-any.whl.metadata (5.1 kB)\n",
            "Requirement already satisfied: python-dateutil>=2.7 in c:\\users\\ahmed islam\\appdata\\roaming\\python\\python312\\site-packages (from matplotlib!=3.6.1,>=3.4->seaborn) (2.9.0.post0)\n",
            "Requirement already satisfied: pytz>=2020.1 in c:\\users\\ahmed islam\\appdata\\local\\programs\\python\\python312\\lib\\site-packages (from pandas>=1.2->seaborn) (2024.1)\n",
            "Requirement already satisfied: tzdata>=2022.7 in c:\\users\\ahmed islam\\appdata\\local\\programs\\python\\python312\\lib\\site-packages (from pandas>=1.2->seaborn) (2024.1)\n",
            "Requirement already satisfied: six>=1.5 in c:\\users\\ahmed islam\\appdata\\roaming\\python\\python312\\site-packages (from python-dateutil>=2.7->matplotlib!=3.6.1,>=3.4->seaborn) (1.16.0)\n",
            "Downloading seaborn-0.13.2-py3-none-any.whl (294 kB)\n",
            "   ---------------------------------------- 0.0/294.9 kB ? eta -:--:--\n",
            "   ---------------- ----------------------- 122.9/294.9 kB 7.0 MB/s eta 0:00:01\n",
            "   ---------------------------------- ----- 256.0/294.9 kB 3.9 MB/s eta 0:00:01\n",
            "   -------------------------------------- - 286.7/294.9 kB 2.9 MB/s eta 0:00:01\n",
            "   ---------------------------------------- 294.9/294.9 kB 2.3 MB/s eta 0:00:00\n",
            "Downloading matplotlib-3.8.4-cp312-cp312-win_amd64.whl (7.7 MB)\n",
            "   ---------------------------------------- 0.0/7.7 MB ? eta -:--:--\n",
            "    --------------------------------------- 0.2/7.7 MB 4.8 MB/s eta 0:00:02\n",
            "   - -------------------------------------- 0.3/7.7 MB 5.4 MB/s eta 0:00:02\n",
            "   -- ------------------------------------- 0.5/7.7 MB 4.2 MB/s eta 0:00:02\n",
            "   --- ------------------------------------ 0.6/7.7 MB 4.4 MB/s eta 0:00:02\n",
            "   --- ------------------------------------ 0.8/7.7 MB 4.3 MB/s eta 0:00:02\n",
            "   ----- ---------------------------------- 1.1/7.7 MB 4.5 MB/s eta 0:00:02\n",
            "   ------ --------------------------------- 1.3/7.7 MB 4.9 MB/s eta 0:00:02\n",
            "   ------- -------------------------------- 1.4/7.7 MB 5.0 MB/s eta 0:00:02\n",
            "   --------- ------------------------------ 1.7/7.7 MB 5.0 MB/s eta 0:00:02\n",
            "   ---------- ----------------------------- 2.0/7.7 MB 5.0 MB/s eta 0:00:02\n",
            "   ----------- ---------------------------- 2.3/7.7 MB 5.2 MB/s eta 0:00:02\n",
            "   ------------- -------------------------- 2.5/7.7 MB 5.2 MB/s eta 0:00:01\n",
            "   -------------- ------------------------- 2.7/7.7 MB 5.3 MB/s eta 0:00:01\n",
            "   --------------- ------------------------ 3.0/7.7 MB 5.3 MB/s eta 0:00:01\n",
            "   ---------------- ----------------------- 3.2/7.7 MB 5.3 MB/s eta 0:00:01\n",
            "   ------------------ --------------------- 3.5/7.7 MB 5.3 MB/s eta 0:00:01\n",
            "   ------------------- -------------------- 3.7/7.7 MB 5.3 MB/s eta 0:00:01\n",
            "   --------------------- ------------------ 4.0/7.7 MB 5.4 MB/s eta 0:00:01\n",
            "   ---------------------- ----------------- 4.2/7.7 MB 5.4 MB/s eta 0:00:01\n",
            "   ----------------------- ---------------- 4.5/7.7 MB 5.5 MB/s eta 0:00:01\n",
            "   ------------------------- -------------- 4.8/7.7 MB 5.5 MB/s eta 0:00:01\n",
            "   -------------------------- ------------- 5.0/7.7 MB 5.4 MB/s eta 0:00:01\n",
            "   --------------------------- ------------ 5.3/7.7 MB 5.5 MB/s eta 0:00:01\n",
            "   ---------------------------- ----------- 5.5/7.7 MB 5.4 MB/s eta 0:00:01\n",
            "   ------------------------------ --------- 5.8/7.7 MB 5.5 MB/s eta 0:00:01\n",
            "   ------------------------------- -------- 5.9/7.7 MB 5.4 MB/s eta 0:00:01\n",
            "   -------------------------------- ------- 6.3/7.7 MB 5.5 MB/s eta 0:00:01\n",
            "   ---------------------------------- ----- 6.5/7.7 MB 5.6 MB/s eta 0:00:01\n",
            "   ---------------------------------- ----- 6.6/7.7 MB 5.4 MB/s eta 0:00:01\n",
            "   ------------------------------------- -- 7.1/7.7 MB 5.5 MB/s eta 0:00:01\n",
            "   ------------------------------------- -- 7.2/7.7 MB 5.4 MB/s eta 0:00:01\n",
            "   ---------------------------------------  7.6/7.7 MB 5.5 MB/s eta 0:00:01\n",
            "   ---------------------------------------  7.7/7.7 MB 5.6 MB/s eta 0:00:01\n",
            "   ---------------------------------------- 7.7/7.7 MB 5.4 MB/s eta 0:00:00\n",
            "Downloading contourpy-1.2.1-cp312-cp312-win_amd64.whl (189 kB)\n",
            "   ---------------------------------------- 0.0/189.9 kB ? eta -:--:--\n",
            "   ---------------------------------------- 189.9/189.9 kB 5.6 MB/s eta 0:00:00\n",
            "Downloading cycler-0.12.1-py3-none-any.whl (8.3 kB)\n",
            "Downloading fonttools-4.51.0-cp312-cp312-win_amd64.whl (2.2 MB)\n",
            "   ---------------------------------------- 0.0/2.2 MB ? eta -:--:--\n",
            "   ----- ---------------------------------- 0.3/2.2 MB 8.6 MB/s eta 0:00:01\n",
            "   --------- ------------------------------ 0.5/2.2 MB 6.6 MB/s eta 0:00:01\n",
            "   --------------- ------------------------ 0.8/2.2 MB 7.4 MB/s eta 0:00:01\n",
            "   ---------------- ----------------------- 0.9/2.2 MB 5.5 MB/s eta 0:00:01\n",
            "   ---------------------- ----------------- 1.2/2.2 MB 5.9 MB/s eta 0:00:01\n",
            "   --------------------------- ------------ 1.5/2.2 MB 6.3 MB/s eta 0:00:01\n",
            "   ------------------------------- -------- 1.7/2.2 MB 6.1 MB/s eta 0:00:01\n",
            "   ------------------------------------ --- 2.0/2.2 MB 6.3 MB/s eta 0:00:01\n",
            "   ---------------------------------------  2.2/2.2 MB 6.0 MB/s eta 0:00:01\n",
            "   ---------------------------------------- 2.2/2.2 MB 5.5 MB/s eta 0:00:00\n",
            "Downloading kiwisolver-1.4.5-cp312-cp312-win_amd64.whl (56 kB)\n",
            "   ---------------------------------------- 0.0/56.0 kB ? eta -:--:--\n",
            "   ---------------------------------------- 56.0/56.0 kB 3.1 MB/s eta 0:00:00\n",
            "Downloading pillow-10.3.0-cp312-cp312-win_amd64.whl (2.5 MB)\n",
            "   ---------------------------------------- 0.0/2.5 MB ? eta -:--:--\n",
            "   ----- ---------------------------------- 0.4/2.5 MB 11.6 MB/s eta 0:00:01\n",
            "   ----------- ---------------------------- 0.7/2.5 MB 7.4 MB/s eta 0:00:01\n",
            "   -------------- ------------------------- 0.9/2.5 MB 7.4 MB/s eta 0:00:01\n",
            "   ---------------- ----------------------- 1.0/2.5 MB 6.0 MB/s eta 0:00:01\n",
            "   ----------------- ---------------------- 1.1/2.5 MB 5.4 MB/s eta 0:00:01\n",
            "   --------------------- ------------------ 1.4/2.5 MB 5.4 MB/s eta 0:00:01\n",
            "   ------------------------ --------------- 1.5/2.5 MB 5.2 MB/s eta 0:00:01\n",
            "   ----------------------------- ---------- 1.9/2.5 MB 5.5 MB/s eta 0:00:01\n",
            "   --------------------------------- ------ 2.1/2.5 MB 5.4 MB/s eta 0:00:01\n",
            "   ------------------------------------ --- 2.3/2.5 MB 5.4 MB/s eta 0:00:01\n",
            "   -------------------------------------- - 2.5/2.5 MB 5.2 MB/s eta 0:00:01\n",
            "   ---------------------------------------- 2.5/2.5 MB 5.0 MB/s eta 0:00:00\n",
            "Downloading pyparsing-3.1.2-py3-none-any.whl (103 kB)\n",
            "   ---------------------------------------- 0.0/103.2 kB ? eta -:--:--\n",
            "   ---------------------------------------- 103.2/103.2 kB 2.9 MB/s eta 0:00:00\n",
            "Installing collected packages: pyparsing, pillow, kiwisolver, fonttools, cycler, contourpy, matplotlib, seaborn\n",
            "Successfully installed contourpy-1.2.1 cycler-0.12.1 fonttools-4.51.0 kiwisolver-1.4.5 matplotlib-3.8.4 pillow-10.3.0 pyparsing-3.1.2 seaborn-0.13.2\n",
            "Note: you may need to restart the kernel to use updated packages.\n"
          ]
        },
        {
          "name": "stderr",
          "output_type": "stream",
          "text": [
            "  WARNING: The scripts fonttools.exe, pyftmerge.exe, pyftsubset.exe and ttx.exe are installed in 'c:\\Users\\Ahmed Islam\\AppData\\Local\\Programs\\Python\\Python312\\Scripts' which is not on PATH.\n",
            "  Consider adding this directory to PATH or, if you prefer to suppress this warning, use --no-warn-script-location.\n"
          ]
        }
      ],
      "source": [
        "pip install seaborn"
      ]
    },
    {
      "cell_type": "markdown",
      "id": "62013500",
      "metadata": {
        "id": "62013500"
      },
      "source": [
        "### Import libraries"
      ]
    },
    {
      "cell_type": "code",
      "execution_count": 6,
      "id": "55d2868e",
      "metadata": {
        "id": "55d2868e"
      },
      "outputs": [],
      "source": [
        "import pandas as pd\n",
        "import numpy as np\n",
        "import seaborn as sns\n",
        "import matplotlib.pyplot as plt \n"
      ]
    },
    {
      "cell_type": "markdown",
      "id": "eb39d5c0",
      "metadata": {
        "id": "eb39d5c0"
      },
      "source": [
        "### Read Data"
      ]
    },
    {
      "cell_type": "code",
      "execution_count": null,
      "id": "ef0e3374",
      "metadata": {
        "id": "ef0e3374"
      },
      "outputs": [],
      "source": [
        "df= pd.read_csv(\"/content/students_adaptability_level_online_education.csv\")    "
      ]
    },
    {
      "cell_type": "code",
      "execution_count": null,
      "id": "a2a1fb75",
      "metadata": {
        "id": "a2a1fb75"
      },
      "outputs": [],
      "source": [
        "df.head()"
      ]
    },
    {
      "cell_type": "markdown",
      "id": "27861f00",
      "metadata": {
        "id": "27861f00"
      },
      "source": [
        "### Generate Data Profiling Report"
      ]
    },
    {
      "cell_type": "code",
      "execution_count": null,
      "id": "03fb0795",
      "metadata": {
        "id": "03fb0795"
      },
      "outputs": [],
      "source": [
        "pip install ydata-profiling\n",
        "\n",
        "from ydata_profiling import ProfileReport"
      ]
    },
    {
      "cell_type": "code",
      "execution_count": null,
      "id": "014d8fea",
      "metadata": {},
      "outputs": [],
      "source": [
        "# Generate the report\n",
        "profile = ProfileReport(df)\n",
        "\n",
        "# Display the report\n",
        "profile.to_file(output_file=\"output.html\")"
      ]
    },
    {
      "cell_type": "markdown",
      "id": "1e22d7ad",
      "metadata": {
        "id": "1e22d7ad"
      },
      "source": [
        "# Encoding"
      ]
    },
    {
      "cell_type": "markdown",
      "id": "4f7cc73c",
      "metadata": {
        "id": "4f7cc73c"
      },
      "source": [
        "Choose a suitable encoding technique for the columns."
      ]
    },
    {
      "cell_type": "code",
      "execution_count": null,
      "id": "4c5237a8",
      "metadata": {
        "id": "4c5237a8"
      },
      "outputs": [],
      "source": []
    },
    {
      "cell_type": "code",
      "execution_count": null,
      "id": "8bdd3a49",
      "metadata": {
        "id": "8bdd3a49"
      },
      "outputs": [],
      "source": []
    },
    {
      "cell_type": "code",
      "execution_count": null,
      "id": "e51b696d",
      "metadata": {
        "id": "e51b696d"
      },
      "outputs": [],
      "source": []
    },
    {
      "cell_type": "code",
      "execution_count": null,
      "id": "2720be01",
      "metadata": {
        "id": "2720be01"
      },
      "outputs": [],
      "source": []
    },
    {
      "cell_type": "code",
      "execution_count": null,
      "id": "5d3ed815",
      "metadata": {
        "id": "5d3ed815"
      },
      "outputs": [],
      "source": []
    },
    {
      "cell_type": "markdown",
      "id": "9aaedcc3",
      "metadata": {
        "id": "9aaedcc3"
      },
      "source": [
        "### Check distribution"
      ]
    },
    {
      "cell_type": "code",
      "execution_count": null,
      "id": "b15f59fb",
      "metadata": {
        "id": "b15f59fb"
      },
      "outputs": [],
      "source": []
    },
    {
      "cell_type": "markdown",
      "id": "74abaa76",
      "metadata": {
        "id": "74abaa76"
      },
      "source": [
        "# Machine Learning Algorithms"
      ]
    },
    {
      "cell_type": "markdown",
      "id": "79dfaf87",
      "metadata": {
        "id": "79dfaf87"
      },
      "source": [
        "Use KNN and Decision tree and find which one is working better."
      ]
    },
    {
      "cell_type": "markdown",
      "id": "60e54425",
      "metadata": {
        "id": "60e54425"
      },
      "source": [
        "### Define X and Y"
      ]
    },
    {
      "cell_type": "code",
      "execution_count": null,
      "id": "6f43ced6",
      "metadata": {
        "id": "6f43ced6"
      },
      "outputs": [],
      "source": []
    },
    {
      "cell_type": "markdown",
      "id": "dc801cb2",
      "metadata": {
        "id": "dc801cb2"
      },
      "source": [
        "### Feature Scaling"
      ]
    },
    {
      "cell_type": "code",
      "execution_count": null,
      "id": "075a0b6b",
      "metadata": {
        "id": "075a0b6b"
      },
      "outputs": [],
      "source": []
    },
    {
      "cell_type": "markdown",
      "id": "3bf45690",
      "metadata": {
        "id": "3bf45690"
      },
      "source": [
        "### Train Test Split"
      ]
    },
    {
      "cell_type": "code",
      "execution_count": null,
      "id": "0f08bdf8",
      "metadata": {
        "id": "0f08bdf8"
      },
      "outputs": [],
      "source": []
    },
    {
      "cell_type": "code",
      "execution_count": null,
      "id": "f0c1c08e",
      "metadata": {
        "id": "f0c1c08e"
      },
      "outputs": [],
      "source": []
    },
    {
      "cell_type": "code",
      "execution_count": null,
      "id": "5df672e3",
      "metadata": {
        "id": "5df672e3"
      },
      "outputs": [],
      "source": []
    },
    {
      "cell_type": "markdown",
      "id": "be023597",
      "metadata": {
        "id": "be023597"
      },
      "source": [
        "# KNN"
      ]
    },
    {
      "cell_type": "code",
      "execution_count": null,
      "id": "e0b3da41",
      "metadata": {
        "id": "e0b3da41"
      },
      "outputs": [],
      "source": []
    },
    {
      "cell_type": "code",
      "execution_count": null,
      "id": "bcb33db3",
      "metadata": {
        "id": "bcb33db3"
      },
      "outputs": [],
      "source": []
    },
    {
      "cell_type": "code",
      "execution_count": null,
      "id": "e94fb237",
      "metadata": {
        "id": "e94fb237"
      },
      "outputs": [],
      "source": []
    },
    {
      "cell_type": "code",
      "execution_count": null,
      "id": "772f42c1",
      "metadata": {
        "id": "772f42c1"
      },
      "outputs": [],
      "source": []
    },
    {
      "cell_type": "code",
      "execution_count": null,
      "id": "9c9b5341",
      "metadata": {
        "id": "9c9b5341"
      },
      "outputs": [],
      "source": []
    },
    {
      "cell_type": "code",
      "execution_count": null,
      "id": "11319f63",
      "metadata": {
        "id": "11319f63"
      },
      "outputs": [],
      "source": []
    },
    {
      "cell_type": "code",
      "execution_count": null,
      "id": "726872b9",
      "metadata": {
        "id": "726872b9"
      },
      "outputs": [],
      "source": []
    },
    {
      "cell_type": "code",
      "execution_count": null,
      "id": "d56a53ff",
      "metadata": {
        "id": "d56a53ff"
      },
      "outputs": [],
      "source": []
    },
    {
      "cell_type": "code",
      "execution_count": null,
      "id": "e8112875",
      "metadata": {
        "id": "e8112875"
      },
      "outputs": [],
      "source": []
    },
    {
      "cell_type": "code",
      "execution_count": null,
      "id": "ec82d00d",
      "metadata": {
        "id": "ec82d00d"
      },
      "outputs": [],
      "source": []
    },
    {
      "cell_type": "code",
      "execution_count": null,
      "id": "e6f108b6",
      "metadata": {
        "id": "e6f108b6"
      },
      "outputs": [],
      "source": []
    },
    {
      "cell_type": "markdown",
      "id": "e227c792",
      "metadata": {
        "id": "e227c792"
      },
      "source": [
        "#### Check different distance metric"
      ]
    },
    {
      "cell_type": "markdown",
      "id": "dbc15208",
      "metadata": {
        "id": "dbc15208"
      },
      "source": [
        "**Euclidean**"
      ]
    },
    {
      "cell_type": "code",
      "execution_count": null,
      "id": "7b657d76",
      "metadata": {
        "id": "7b657d76"
      },
      "outputs": [],
      "source": []
    },
    {
      "cell_type": "markdown",
      "id": "28e4b9ab",
      "metadata": {
        "id": "28e4b9ab"
      },
      "source": [
        "**Manhattan**"
      ]
    },
    {
      "cell_type": "code",
      "execution_count": null,
      "id": "615cdc5a",
      "metadata": {
        "id": "615cdc5a"
      },
      "outputs": [],
      "source": []
    },
    {
      "cell_type": "code",
      "execution_count": null,
      "id": "6897ec51",
      "metadata": {
        "id": "6897ec51"
      },
      "outputs": [],
      "source": []
    },
    {
      "cell_type": "markdown",
      "id": "7e1ed2e8",
      "metadata": {
        "id": "7e1ed2e8"
      },
      "source": [
        "# Decision Tree\n",
        "\n",
        "**Using Entropy**"
      ]
    },
    {
      "cell_type": "code",
      "execution_count": null,
      "id": "8c4106c3",
      "metadata": {
        "id": "8c4106c3"
      },
      "outputs": [],
      "source": []
    },
    {
      "cell_type": "code",
      "execution_count": null,
      "id": "d123ca6d",
      "metadata": {
        "id": "d123ca6d"
      },
      "outputs": [],
      "source": []
    },
    {
      "cell_type": "code",
      "execution_count": null,
      "id": "cac2f3fc",
      "metadata": {
        "id": "cac2f3fc"
      },
      "outputs": [],
      "source": []
    },
    {
      "cell_type": "code",
      "execution_count": null,
      "id": "0a021b27",
      "metadata": {
        "id": "0a021b27"
      },
      "outputs": [],
      "source": []
    },
    {
      "cell_type": "markdown",
      "id": "66dbf093",
      "metadata": {
        "id": "66dbf093"
      },
      "source": [
        "**Use Gini Index**"
      ]
    },
    {
      "cell_type": "code",
      "execution_count": null,
      "id": "53b2a6e1",
      "metadata": {
        "id": "53b2a6e1"
      },
      "outputs": [],
      "source": []
    },
    {
      "cell_type": "code",
      "execution_count": null,
      "id": "9133a5e9",
      "metadata": {
        "id": "9133a5e9"
      },
      "outputs": [],
      "source": []
    },
    {
      "cell_type": "code",
      "execution_count": null,
      "id": "e40cacda",
      "metadata": {
        "id": "e40cacda"
      },
      "outputs": [],
      "source": []
    },
    {
      "cell_type": "code",
      "execution_count": null,
      "id": "dbe51fa2",
      "metadata": {
        "id": "dbe51fa2"
      },
      "outputs": [],
      "source": []
    },
    {
      "cell_type": "markdown",
      "id": "60e29891",
      "metadata": {
        "id": "60e29891"
      },
      "source": [
        "# All the Best!"
      ]
    }
  ],
  "metadata": {
    "colab": {
      "provenance": []
    },
    "kernelspec": {
      "display_name": "Python 3 (ipykernel)",
      "language": "python",
      "name": "python3"
    },
    "language_info": {
      "codemirror_mode": {
        "name": "ipython",
        "version": 3
      },
      "file_extension": ".py",
      "mimetype": "text/x-python",
      "name": "python",
      "nbconvert_exporter": "python",
      "pygments_lexer": "ipython3",
      "version": "3.12.3"
    }
  },
  "nbformat": 4,
  "nbformat_minor": 5
}
